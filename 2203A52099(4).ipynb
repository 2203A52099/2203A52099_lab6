{
  "nbformat": 4,
  "nbformat_minor": 0,
  "metadata": {
    "colab": {
      "provenance": []
    },
    "kernelspec": {
      "name": "python3",
      "display_name": "Python 3"
    },
    "language_info": {
      "name": "python"
    }
  },
  "cells": [
    {
      "cell_type": "code",
      "execution_count": 1,
      "metadata": {
        "colab": {
          "base_uri": "https://localhost:8080/"
        },
        "id": "gMltkMKg0FKx",
        "outputId": "41a99072-2e13-44c4-90e5-0416145c7542"
      },
      "outputs": [
        {
          "output_type": "stream",
          "name": "stdout",
          "text": [
            "Mean Squared Error: 0.37640086063283196\n"
          ]
        }
      ],
      "source": [
        "import numpy as np\n",
        "import pandas as pd\n",
        "import matplotlib.pyplot as plt\n",
        "from sklearn.preprocessing import MinMaxScaler\n",
        "from sklearn.model_selection import train_test_split\n",
        "from sklearn.linear_model import LinearRegression\n",
        "from sklearn.metrics import mean_squared_error,mean_absolute_error\n",
        "\n",
        "data = pd.read_csv('/content/Japan_life_expectancy (1).csv')\n",
        "\n",
        "features = data.drop('Prefecture', axis=1)\n",
        "features = features.drop('Life_expectancy', axis=1)\n",
        "target = data['Life_expectancy']\n",
        "\n",
        "scaler = MinMaxScaler()\n",
        "features_scaled = scaler.fit_transform(features)\n",
        "\n",
        "\n",
        "X_train, X_test, y_train, y_test = train_test_split(features_scaled, target, test_size=0.3, random_state=13)\n",
        "\n",
        "lr = LinearRegression()\n",
        "lr.fit(X_train, y_train)\n",
        "\n",
        "\n",
        "coef = lr.coef_\n",
        "intercept = lr.intercept_\n",
        "\n",
        "y_pred = lr.predict(X_test)\n",
        "\n",
        "\n",
        "mse = mean_squared_error(y_test, y_pred)\n",
        "print(f\"Mean Squared Error: {mse}\")"
      ]
    },
    {
      "cell_type": "code",
      "source": [
        "import numpy as np\n",
        "import pandas as pd\n",
        "import matplotlib.pyplot as plt\n",
        "from sklearn.linear_model import Ridge\n",
        "from sklearn.model_selection import train_test_split\n",
        "from sklearn.preprocessing import MinMaxScaler\n",
        "from sklearn.metrics import mean_squared_error\n",
        "\n",
        "data = pd.read_csv('/content/Japan_life_expectancy (1).csv')\n",
        "data.fillna(data.mean(), inplace=True)\n",
        "features = data.drop(['Life_expectancy', 'Prefecture'], axis=1)\n",
        "target = data['Life_expectancy']\n",
        "\n",
        "scaler = MinMaxScaler()\n",
        "features_scaled = scaler.fit_transform(features)\n",
        "\n",
        "X_train, X_test, y_train, y_test = train_test_split(features_scaled, target, test_size=0.2, random_state=28)\n",
        "\n",
        "\n",
        "ridge = Ridge()\n",
        "ridge.fit(X_train, y_train)\n",
        "\n",
        "\n",
        "\n",
        "y_pred = ridge.predict(X_train)\n",
        "mse = mean_squared_error(y_train, y_pred)\n",
        "print(f\" (Train)Mean Squared Error: {mse}\")\n",
        "\n",
        "\n",
        "\n",
        "y_pred = ridge.predict(X_test)\n",
        "\n",
        "mse = mean_squared_error(y_test, y_pred)\n",
        "print(f\"(Test)Mean Squared Error with Ridge Regression: {mse}\")\n"
      ],
      "metadata": {
        "colab": {
          "base_uri": "https://localhost:8080/"
        },
        "id": "JkldwjCaCc_k",
        "outputId": "53ba65d9-b25f-4e76-f7d4-f94d17bc25c8"
      },
      "execution_count": 6,
      "outputs": [
        {
          "output_type": "stream",
          "name": "stdout",
          "text": [
            " (Train)Mean Squared Error: 0.07331184715224758\n",
            "(Test)Mean Squared Error with Ridge Regression: 0.1397020200183196\n"
          ]
        },
        {
          "output_type": "stream",
          "name": "stderr",
          "text": [
            "<ipython-input-6-537f064d1530>:10: FutureWarning: The default value of numeric_only in DataFrame.mean is deprecated. In a future version, it will default to False. In addition, specifying 'numeric_only=None' is deprecated. Select only valid columns or specify the value of numeric_only to silence this warning.\n",
            "  data.fillna(data.mean(), inplace=True)\n"
          ]
        }
      ]
    },
    {
      "cell_type": "code",
      "source": [
        "import numpy as np\n",
        "import pandas as pd\n",
        "import matplotlib.pyplot as plt\n",
        "from sklearn.linear_model import Lasso\n",
        "from sklearn.model_selection import train_test_split\n",
        "from sklearn.preprocessing import MinMaxScaler\n",
        "from sklearn.metrics import mean_squared_error\n",
        "\n",
        "data = pd.read_csv('/content/Japan_life_expectancy (1).csv')\n",
        "data.fillna(data.mean(), inplace=True)\n",
        "features = data.drop(['Life_expectancy', 'Prefecture'], axis=1)\n",
        "target = data['Life_expectancy']\n",
        "\n",
        "scaler = MinMaxScaler()\n",
        "features_scaled = scaler.fit_transform(features)\n",
        "\n",
        "X_train, X_test, y_train, y_test = train_test_split(features_scaled, target, test_size=0.3, random_state=19)\n",
        "\n",
        "\n",
        "lasso = Lasso()\n",
        "lasso.fit(X_train, y_train)\n",
        "\n",
        "\n",
        "y_pred = lasso.predict(X_train)\n",
        "mse = mean_squared_error(y_train, y_pred)\n",
        "print(f\" (Train)Mean Squared Error: {mse}\")\n",
        "\n",
        "\n",
        "y_pred = lasso.predict(X_test)\n",
        "\n",
        "mse = mean_squared_error(y_test, y_pred)\n",
        "print(f\"(Test)Mean Squared Error with Lasso Regression: {mse}\")"
      ],
      "metadata": {
        "colab": {
          "base_uri": "https://localhost:8080/"
        },
        "id": "fKrm2U5m1s-e",
        "outputId": "9178799f-2f5e-431e-adc7-61a5a37db45e"
      },
      "execution_count": 3,
      "outputs": [
        {
          "output_type": "stream",
          "name": "stdout",
          "text": [
            " (Train)Mean Squared Error: 0.24591318359375006\n",
            "(Test)Mean Squared Error with Lasso Regression: 0.25780494140625093\n"
          ]
        },
        {
          "output_type": "stream",
          "name": "stderr",
          "text": [
            "<ipython-input-3-58373b3eb199>:10: FutureWarning: The default value of numeric_only in DataFrame.mean is deprecated. In a future version, it will default to False. In addition, specifying 'numeric_only=None' is deprecated. Select only valid columns or specify the value of numeric_only to silence this warning.\n",
            "  data.fillna(data.mean(), inplace=True)\n"
          ]
        }
      ]
    }
  ]
}